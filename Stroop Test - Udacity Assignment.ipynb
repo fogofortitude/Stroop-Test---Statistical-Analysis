{
 "cells": [
  {
   "cell_type": "code",
   "execution_count": 113,
   "metadata": {
    "collapsed": true
   },
   "outputs": [],
   "source": [
    "%matplotlib inline"
   ]
  },
  {
   "cell_type": "code",
   "execution_count": 114,
   "metadata": {
    "collapsed": false
   },
   "outputs": [],
   "source": [
    "import pandas as pd\n",
    "import numpy as np\n",
    "import seaborn as sns\n",
    "import scipy.stats as stats\n",
    "import math\n",
    "from IPython.display import display"
   ]
  },
  {
   "cell_type": "markdown",
   "metadata": {},
   "source": [
    "# Investigation of the Stroop Effect"
   ]
  },
  {
   "cell_type": "markdown",
   "metadata": {},
   "source": [
    "<H3>Background Information</H3>\n",
    "<p></p>\n",
    "In a Stroop task, participants are presented with a list of words, with each word displayed in a colour of ink. The participant’s task is to say out loud the colour of the ink in which the word is printed. \n",
    "\n",
    "The task has two conditions: a congruent words condition, and an incongruent words condition. \n",
    "\n",
    "In the congruent words condition, the words being displayed are colour words whose names match the colours in which they are printed: for example:  \n",
    "<b style=\"color:#FF0000\";>RED</b>,\n",
    "<b style=\"color:blue\";>BLUE</b> \n",
    "<b style=\"color:green\";>GREEN</b> \n",
    "<b style=\"color:purple\";>PURPLE</b>\n",
    "\n",
    "In the incongruent words condition, the words displayed are colour words whose names do not match the colours in which they are printed: for example \n",
    "<b style=\"color:blue\";>RED</b>,\n",
    "<b style=\"color:#FF0000\";>BLUE</b> \n",
    "<b style=\"color:green\";>PURPLE</b> \n",
    "<b style=\"color:purple\";>GREEN</b>\n",
    "Green Red Blue\n",
    "Purple Blue Purple\n",
    "\n",
    "In each case, we measure the time it takes to name the ink colours in equally-sized lists. \n",
    "\n",
    "Each participant will go through and record a time from each condition."
   ]
  },
  {
   "cell_type": "markdown",
   "metadata": {},
   "source": [
    "<h3>1. What is our independent variable? What is our dependent variable?</h3>\n",
    "\n",
    "The independent variable is whether the task has the congruent or incongruent condition. In otherwords we want to determine if changing the colour of the words is a potential reason for variation\n",
    "\n",
    "The dependent variable is the time taken to complete each test, as it represents the output of the variation being studied. "
   ]
  },
  {
   "cell_type": "markdown",
   "metadata": {},
   "source": [
    "<h3>2a.\tWhat is an appropriate set of hypotheses for this task?</h3>\n",
    "\n",
    "<b>What is the Stroop Effect?</b>\n",
    "<br>According to Wikipedia<blockquote cite==\"https://en.wikipedia.org/wiki/Stroop_effect\">\n",
    "<i>\"It is a demonstration of interference in the reaction time of a task. When the name of a color (e.g., \"blue\", \"green\", or \"red\") is printed in a color that is not denoted by the name (e.g., the word \"red\" printed in blue ink instead of red ink), naming the color of the word takes longer and is more prone to errors than when the color of the ink matches the name of the color.\" </blockquote>\n",
    "\n",
    "<br><b>What is the explanatory Hypothesis?</b>\n",
    "The reaction time for naming the ink colours that are not matching of the written names of colours (incogruent) will be different than the reaction time for naming the ink colours that match the written names (congruent)\n",
    "\n",
    "\n",
    "<br><b>How are we to go about this? </b>\n",
    "<br>When performning our Hypothesis test we are referring to the population means of Congruent and InCongruent test results. However, due our small samle size of 24 participants it is not posible to perform the Hypothesis on a population data set; so we must make inference of the population means from our Sample means (X&#772;c = Congruent Mean and X&#772;i = InConguent Mean) sets using Statistical Tools.\n",
    "\n",
    "To achieve this, we will use a two-sided paired paticipant T-test to verify. The reasoning for this is:\n",
    "<ul>\n",
    "<li>to address the uncertainty that comes from the sample standardard error associated with using a sample to emulate population standard deviation.</li> \n",
    "<li>Compare the means of two dependant sample groups</li>\n",
    "</ul>\n",
    "\n",
    "<p><b>Null Hypothesis:</b> \n",
    "<p>The null hypothesis H0 claims that there is no significant difference in the Population Average Response time taken completing the ComCongruent Test(μc)and Incongruent Test(μI)\n",
    "\n",
    "\n",
    "\n",
    "<p><b>Alternative Hypothesis:</b> \n",
    "<p>The alternative hypothesis claims that there is significant differenct, positive or negative in the Population Average Response time taken completing the ComCongruent Test(μc)and Incongruent Test(μI)\n",
    "<p><i> Ha:  μi - μc ≠ 0</i>\n",
    "\n",
    "<h3>2b. What kind of statistical test do you expect to perform? </h3>\n",
    "<br>We will use a two tailed Dependant Samples T-Test aka Paired Sample .\n",
    "<br><br>Justification:\n",
    "<li>the same participants carried out both the congruent and incongruent tests\n",
    "<li>Due to the nature of the Stroop test there will be minimal carry over effects and minimal importance weighed on the order in which the Congruent and Incongruent Tests are performed\n",
    "<li>we dont have population parameters to use a Z-Test"
   ]
  },
  {
   "cell_type": "markdown",
   "metadata": {},
   "source": [
    "<H3>3. Report some descriptive statistics regarding this dataset. Include at least one measure of central tendency and at least one measure of variability.</h3>\n"
   ]
  },
  {
   "cell_type": "code",
   "execution_count": 115,
   "metadata": {
    "collapsed": false
   },
   "outputs": [],
   "source": [
    "# Import dataset into dataframe and provide sample from data frame\n",
    "stroop_results = pd.read_csv('./stroop_Test.csv')\n",
    "# Import each test into their own dataframe\n",
    "congruent_df = stroop_results['congruent']\n",
    "incongruent_df = stroop_results['Incongruent']"
   ]
  },
  {
   "cell_type": "markdown",
   "metadata": {},
   "source": [
    "<h4>Central Tendency Measures</h4>"
   ]
  },
  {
   "cell_type": "code",
   "execution_count": 116,
   "metadata": {
    "collapsed": false
   },
   "outputs": [
    {
     "name": "stdout",
     "output_type": "stream",
     "text": [
      "Congruent Mean = 14.051125\n",
      "Incongruent Mean = 14.051125\n"
     ]
    }
   ],
   "source": [
    "# Identify the Mean\n",
    "Xc = congruent_df.mean(); round(Xc,4)\n",
    "Xi = incongruent_df.mean(); round(Xi,4)\n",
    "\n",
    "print 'Congruent Mean = '+ str(Xc)\n",
    "print 'Incongruent Mean = '+ str(Xc)"
   ]
  },
  {
   "cell_type": "code",
   "execution_count": 117,
   "metadata": {
    "collapsed": false
   },
   "outputs": [
    {
     "name": "stdout",
     "output_type": "stream",
     "text": [
      "Congruent Median = 14.3565\n",
      "Incongruent Median = 21.0175\n"
     ]
    }
   ],
   "source": [
    "# Identify the Median\n",
    "Median_c = congruent_df.median(); round(Median_c,4)\n",
    "Median_i = incongruent_df.median(); round(Median_i,4)\n",
    "\n",
    "print 'Congruent Median = '+ str(Median_c)\n",
    "print 'Incongruent Median = '+ str(Median_i)"
   ]
  },
  {
   "cell_type": "markdown",
   "metadata": {},
   "source": [
    "<b>Variability Measures</b>"
   ]
  },
  {
   "cell_type": "code",
   "execution_count": 118,
   "metadata": {
    "collapsed": false
   },
   "outputs": [
    {
     "name": "stdout",
     "output_type": "stream",
     "text": [
      "congruent      13.698\n",
      "Incongruent    19.568\n",
      "dtype: float64\n"
     ]
    }
   ],
   "source": [
    "# Identify the Range\n",
    "print (stroop_results.max(axis=0) - stroop_results.min(axis=0))"
   ]
  },
  {
   "cell_type": "code",
   "execution_count": 119,
   "metadata": {
    "collapsed": false
   },
   "outputs": [
    {
     "name": "stdout",
     "output_type": "stream",
     "text": [
      "congruent      12.669029\n",
      "Incongruent    23.011757\n",
      "dtype: float64\n"
     ]
    }
   ],
   "source": [
    "# Identify the Sample Variance\n",
    "print (stroop_results.var(axis=0))"
   ]
  },
  {
   "cell_type": "code",
   "execution_count": 120,
   "metadata": {
    "collapsed": false
   },
   "outputs": [
    {
     "name": "stdout",
     "output_type": "stream",
     "text": [
      "Congruent Median = 3.55935795765\n",
      "Incongruent Median = 4.79705712247\n"
     ]
    }
   ],
   "source": [
    "# Identify Standard Deviation\n",
    "stdd_c = congruent_df.std(); round(stdd_c,4);\n",
    "stdd_i = incongruent_df.std(); round(stdd_i,4);\n",
    "\n",
    "print 'Congruent Median = '+ str(stdd_c)\n",
    "print 'Incongruent Median = '+ str(stdd_i)"
   ]
  },
  {
   "cell_type": "markdown",
   "metadata": {},
   "source": [
    "<h3>4. Provide one or two visualizations that show the distribution of the sample data. Write one or two sentences noting what you observe about the plot or plots.</h3>\n"
   ]
  },
  {
   "cell_type": "code",
   "execution_count": 121,
   "metadata": {
    "collapsed": false
   },
   "outputs": [
    {
     "data": {
      "image/png": "[encoded data removed]",
      "text/plain": [
       "<matplotlib.figure.Figure at 0x118c91b10>"
      ]
     },
     "metadata": {},
     "output_type": "display_data"
    }
   ],
   "source": [
    "# Create Box Plot to visuallyy identify deviations and outliers\n",
    "# Y-Axis Represents the time taken in the Test\n",
    "ax = sns.boxplot(data=stroop_results)"
   ]
  },
  {
   "cell_type": "code",
   "execution_count": 122,
   "metadata": {
    "collapsed": false
   },
   "outputs": [
    {
     "data": {
      "image/png": "[encoded data removed]",
      "text/plain": [
       "<matplotlib.figure.Figure at 0x118f67b10>"
      ]
     },
     "metadata": {},
     "output_type": "display_data"
    }
   ],
   "source": [
    "sns.distplot(x, bins=8, kde_kws={\"color\": \"b\", \"lw\": 2, \"label\": \"Congruent\"}); \n",
    "sns.distplot(y, bins=8, kde_kws={\"color\": \"g\", \"lw\": 2, \"label\": \"Incongruent\"},); \n",
    "#Refer to the Blue Distribution plot for Congruent Results\n",
    "#Refer to the bar Distribution plot for InCongruent Results"
   ]
  },
  {
   "cell_type": "markdown",
   "metadata": {},
   "source": [
    "<H3>Findings from Visualisation</H3>\n",
    "\n",
    "<b>The boxplot shows us that:</b>\n",
    "<li>the Congruent and Incongruent Sample groups have significant difference in median times and range. </li>\n",
    "<li>that Incongruent words test results are of much longer times than congruent.</li>\n",
    "<li>Both Congruent and Incongruent sample group have suspected outliers; with Incongruent sample group having the more significant outliers (see the black dots well above the inner fence around the 35 mark on the y-axis). </li>\n",
    "\n",
    "<p>\n",
    "<b>The histograms:</b>\n",
    "<li>confirms the previous observations of the box plot. </li>\n",
    "<li>Incongruent Test data looks to have a positive skew; with a slight sign of being biomodel due to 2 outlier scores. These small outliers may give justificaiton for requesting a larger sample size to obtain a more normal distribution ie a single bell curve.\n",
    "</li>\n",
    "</p>\n",
    "\n",
    "<p>\n",
    "<b>Summary: </b>\n",
    "<br>Both data sets appear to have a normal enough distribution to allow for a Paired Sample T-test aka dependent sample t-test to determine whether the mean difference between two sets of observations is zero. \n",
    "</p>\n"
   ]
  },
  {
   "cell_type": "markdown",
   "metadata": {},
   "source": [
    "<h3>5. Now, perform the statistical test and report your results. "
   ]
  },
  {
   "cell_type": "markdown",
   "metadata": {},
   "source": [
    "<b>Confidence Level</b>\n",
    "<br>We will apply the default confidence level of <b>95%</b>. \n",
    "<br>This will imply that that 95% of the confidence intervals would include the true population parameter.\n",
    "\n",
    "<b>Significance level (α)</b>\n",
    "<br> As we are using two sided test our significance level will be <b>α=0.025</b> on either side of the distribution.\n",
    "<br>ie 1 - .95 confidence level divided by 2. \n",
    "\n",
    "<b>Degrees of Freedom (df = N-1)</b>\n",
    "<br> <b>df = 24 </b>\n",
    "<br> For t distribution to compute a confidence interval for a mean score we must deduct one from the sample size to allow for sampling error that can occuring when estimating population parameters.\n",
    "\n",
    "<b>Critical Value </b>\n",
    "<br> When using a T-Table to identify our Critical value using the α=0.025 and df=24 we obtain a <b>T-Critical Value = 2.064</b>"
   ]
  },
  {
   "cell_type": "markdown",
   "metadata": {},
   "source": [
    "<b>Point Estimate in Seconds</b>\n",
    "<br>PE = X̄i - X̄c"
   ]
  },
  {
   "cell_type": "code",
   "execution_count": 123,
   "metadata": {
    "collapsed": false
   },
   "outputs": [
    {
     "name": "stdout",
     "output_type": "stream",
     "text": [
      "PE = 7.9648\n"
     ]
    },
    {
     "data": {
      "text/plain": [
       "<function round>"
      ]
     },
     "execution_count": 123,
     "metadata": {},
     "output_type": "execute_result"
    }
   ],
   "source": [
    "PE = Xi - Xc;\n",
    "print 'PE = '+str(round(PE,4));"
   ]
  },
  {
   "cell_type": "markdown",
   "metadata": {},
   "source": [
    "<br><b>Critical Value of two sided T-Test</b>\n",
    "<br> When using <a href=\"https://s3.amazonaws.com/udacity-hosted-downloads/t-table.jpg\">T-Table</a> to identify our Critical value using the α=0.025 and df=24 we obtain a <b>T-Critical Value = -2.064 and +2.064</b>\n",
    "<p>\n",
    "Alternatively we can arrive at the same T Critical Value using the Scripy fuction ppf as seen below\n",
    "<p><b>Rejection Region</b>\n",
    "<br>-2.04 > t statistic > 2.04"
   ]
  },
  {
   "cell_type": "code",
   "execution_count": 124,
   "metadata": {
    "collapsed": false
   },
   "outputs": [
    {
     "data": {
      "text/plain": [
       "-2.063898561628021"
      ]
     },
     "execution_count": 124,
     "metadata": {},
     "output_type": "execute_result"
    }
   ],
   "source": [
    "stats.t.ppf(.025, 24)\n",
    "#t-critical value for two sided test will have"
   ]
  },
  {
   "cell_type": "markdown",
   "metadata": {},
   "source": [
    "<h3>Calculate T-Statistic</h3>\n",
    "<p> We define by \n",
    "<p><i>t = PE / [ s / sqrt( n ) ]</i></p>\n",
    "\n",
    "<ul>\n",
    "<i>\n",
    "<li>PE is the point estimate ie μi - μc; the difference betweent the sample means. \n",
    "<li>s is the standard deviation of the sample <br>s = sqrt [ Σ ( xi - x )2 / ( n - 1 ) ]\n",
    "<li>n is the sample size\n",
    "</i>\n",
    "</ul>\n",
    "\n",
    "Alternatively we can identify the T-Statistic along with the P Value using the Scripy function <i><b>ttest_rel(sample a, sample b)</b></i> against the Congruent and Incongruent Sample dataframes recorded earlier. The output of this is below. "
   ]
  },
  {
   "cell_type": "code",
   "execution_count": 162,
   "metadata": {
    "collapsed": false
   },
   "outputs": [
    {
     "name": "stdout",
     "output_type": "stream",
     "text": [
      "Standard Deviation from the Sample mean = 4.8648\n"
     ]
    }
   ],
   "source": [
    "#Step 1 - Identify Sample Difference\n",
    "#df['D'] = df['Incongruent'] - df['Congruent']\n",
    "#print df['D'] \n",
    "stroop_results['difference'] = stroop_results['Incongruent'] - stroop_results['congruent']\n",
    "\n",
    "#Step 2 - Identify the sample difference from the mean SDM Squared\n",
    "stroop_results['SMPL_DFNC_MEAN_SQRD'] = (stroop_results['difference'] - stroop_results['difference'].mean())**2\n",
    "\n",
    "#Step 3 - Sum the squared differences\n",
    "SUM_SQRD_DIFF = stroop_results['SMPL_DFNC_MEAN_SQRD'].sum()\n",
    "\n",
    "#Step 4 - Calculate the Variance - Sum of Squared Deviation / (sample size - 1)\n",
    "Variance = SUM_SQRD_DIFF /(24-1)\n",
    "\n",
    "#Step 5 - Calculate the Stamdard Deviation from the Sample Mean by taking \n",
    "# the square root of sample variance\n",
    "s = math.sqrt(Variance)\n",
    "\n",
    "print 'Standard Deviation from the Sample mean = '+str(round(s,4))"
   ]
  },
  {
   "cell_type": "code",
   "execution_count": 167,
   "metadata": {
    "collapsed": false,
    "scrolled": true
   },
   "outputs": [
    {
     "name": "stdout",
     "output_type": "stream",
     "text": [
      "T-Statistic = 8.0207\n"
     ]
    }
   ],
   "source": [
    "# Step 6 - Calcuate the T-Statistic using formula:\n",
    "# t = PE/(s/√n)\n",
    "# t = PE / (s/SQRT(24))\n",
    "\n",
    "tstat = PE / (s/math.sqrt(24))\n",
    "print 'T-Statistic = '+str(round(tstat,4))"
   ]
  },
  {
   "cell_type": "markdown",
   "metadata": {},
   "source": [
    "<H4>What is the P-Value</H4>"
   ]
  },
  {
   "cell_type": "code",
   "execution_count": 169,
   "metadata": {
    "collapsed": false
   },
   "outputs": [
    {
     "name": "stdout",
     "output_type": "stream",
     "text": [
      "P-value = 2.0\n"
     ]
    }
   ],
   "source": [
    "pvalue = stats.t.cdf(x= 8.0207,      # T-test statistic\n",
    "               df= 23) * 2   # Mupltiply by two for two tailed test\n",
    "print 'P-value = '+ str(round(pvalue,4))"
   ]
  },
  {
   "cell_type": "markdown",
   "metadata": {},
   "source": [
    "<h3>Do you reject the null hypothesis or fail to reject it? </h3>\n",
    "<br> Yes, we reject the Null Hypothesis for the reasons that: \n",
    "<li>The T-Statistic (8.0207) resides inthe Rejection region of the distribution as it is signficantly greater thant the T-Critcal Value (2.064).\n",
    "<li>The P-value is greater than the Standard Deviation of the Sample  ie 2.0 > 4.8648.\n",
    "\n"
   ]
  },
  {
   "cell_type": "markdown",
   "metadata": {},
   "source": [
    "<H3>What is the Margin for Error within the sample data?</H3>\n",
    "<i>We calculate the margin of error for the reason that it expresses the maximum expected difference between the population parameter and a sample estimate of that parameter.</i>"
   ]
  },
  {
   "cell_type": "code",
   "execution_count": 176,
   "metadata": {
    "collapsed": false
   },
   "outputs": [
    {
     "name": "stdout",
     "output_type": "stream",
     "text": [
      "Margin_for_Error = 2.04961110218\n"
     ]
    }
   ],
   "source": [
    "#STEP 1 - Calculates the Standard Error of Mean\n",
    "# SEM = S / SQRT(n)\n",
    "SEM = s / np.sqrt(24)\n",
    "#print 'Standard Error of the Mean = '+str(SEM)\n",
    "\n",
    "# STEP 2 Calculates the Margin for Error\n",
    "# The margin of error expresses the maximum expected difference between the true population parameter and a sample estimate of that parameter. \n",
    "# Critical value * Standard Error of Mean\n",
    "Margin_for_Error = 2.064 * SEM\n",
    "print 'Margin_for_Error = '+ str(Margin_for_Error)"
   ]
  },
  {
   "cell_type": "markdown",
   "metadata": {},
   "source": [
    "<b>What does this Margin of Error Mean</b>\n",
    "<br>It means we can be 95% confident that the mean time taken in the True population lies somewhere between 7.9648-0.2479 seconds and 7.9648+0.2479  seconds"
   ]
  },
  {
   "cell_type": "markdown",
   "metadata": {},
   "source": [
    "<h3>Conclusion</h3> "
   ]
  },
  {
   "cell_type": "markdown",
   "metadata": {},
   "source": [
    "At α=0.05 (.025 for both sides) of a two tailed t-test, we conclude that, on average there is a statistically significant difference in the time taken to name the ink colours under both conditions. \n",
    "\n",
    "<b>Did the results match up with your expectations?</b>\n",
    "\n",
    "The results matched the expectation that we'd be able to Reject the Null Hypotheses and accept the Alternative Hypothesis that the Congruenet Test when applied to the entire population will take a different time to the Inconguent Test applied to the same population."
   ]
  },
  {
   "cell_type": "markdown",
   "metadata": {},
   "source": [
    "<b>REFERENCES:</b>\n",
    "<ul>\n",
    "<li>http://hamelg.blogspot.com.au/2015/11/python-for-data-analysis-part-24.html</li>\n",
    "<li>http://stattrek.com/statistics/dictionary</li>\n",
    "<li>https://docs.scipy.org/doc/scipy-0.15.1/reference/generated/scipy.stats.ttest_rel.html#scipy.stats.ttest_rel</li>\n",
    "<li> https://plot.ly/matplotlib/bar-charts/</li>\n",
    "<li> https://docs.python.org/2/library/math.html</li>\n",
    "<li>https://docs.scipy.org/doc/numpy/reference/generated/numpy.sqrt.html</li>\n",
    "<li>http://hamelg.blogspot.com.au/2015/11/python-for-data-analysis-part-24.html</li>\n",
    "<li>http://pandas.pydata.org/pandas-docs/stable/generated/pandas.DataFrame.describe.html</li>\n",
    "<li>http://seaborn.pydata.org/generated/seaborn.boxplot.html</li>\n",
    "</ul>"
   ]
  }
 ],
 "metadata": {
  "anaconda-cloud": {},
  "kernelspec": {
   "display_name": "Python [default]",
   "language": "python",
   "name": "python2"
  },
  "language_info": {
   "codemirror_mode": {
    "name": "ipython",
    "version": 2
   },
   "file_extension": ".py",
   "mimetype": "text/x-python",
   "name": "python",
   "nbconvert_exporter": "python",
   "pygments_lexer": "ipython2",
   "version": "2.7.12"
  }
 },
 "nbformat": 4,
 "nbformat_minor": 1
}
